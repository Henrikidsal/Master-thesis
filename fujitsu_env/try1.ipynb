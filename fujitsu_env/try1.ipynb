{
 "cells": [
  {
   "cell_type": "code",
   "execution_count": 13,
   "metadata": {},
   "outputs": [
    {
     "name": "stdout",
     "output_type": "stream",
     "text": [
      "160 - 69 x_0 + 20 x_0 x_1 + 20 x_0 x_2 + 20 x_0 x_3 + 20 x_0 x_4 + 20 x_0 x_5 + 20 x_0 x_6 - 67 x_1 + 20 x_1 x_2 + 20 x_1 x_3 + 20 x_1 x_4 + 20 x_1 x_5 + 20 x_1 x_6 - 65 x_2 + 20 x_2 x_3 + 20 x_2 x_4 + 20 x_2 x_5 + 20 x_2 x_6 - 66 x_3 + 20 x_3 x_4 + 20 x_3 x_5 + 20 x_3 x_6 - 68 x_4 + 20 x_4 x_5 + 20 x_4 x_6 - 69 x_5 + 20 x_5 x_6 - 64 x_6\n"
     ]
    }
   ],
   "source": [
    "from dadk.BinPol import *\n",
    "\n",
    "mu = [1, 3, 5, 4, 2, 1, 6]  # Coefficients for optimization\n",
    "\n",
    "# Define binary variable x with the same length as mu\n",
    "x_bit_array_shape = BitArrayShape(name=\"x\", shape=(len(mu),))\n",
    "\n",
    "# Set up variable shapes and freeze\n",
    "var_shape_set = VarShapeSet(x_bit_array_shape)\n",
    "BinPol.freeze_var_shape_set(var_shape_set)\n",
    "\n",
    "# Define the objective function as a QUBO problem\n",
    "qubo = BinPol()\n",
    "\n",
    "\n",
    "k = 4  # amount of variables we want to be 1\n",
    "lambda_penalty = 10  # Penalty weight\n",
    "\n",
    "# Create binary decision variables\n",
    "objective = BinPol()\n",
    "for i in range(len(mu)):\n",
    "    objective = objective.add_term(mu[i], (\"x\", i)) \n",
    "\n",
    "# Add constraint: (sum(x) - k)^2\n",
    "constraint = BinPol()\n",
    "for i in range(len(mu)):\n",
    "    constraint = constraint.add_term(1, (\"x\", i))\n",
    "\n",
    "constraint.add_term(-k)\n",
    "constraint.power(2)  # Square to impose penalty\n",
    "\n",
    "\n",
    "qubo.add(objective)  # Add the original objective\n",
    "qubo.add(lambda_penalty * constraint)  # Add penalty term to objective function\n",
    "\n",
    "\n",
    "\n",
    "print(qubo)"
   ]
  },
  {
   "cell_type": "code",
   "execution_count": 9,
   "metadata": {},
   "outputs": [
    {
     "name": "stdout",
     "output_type": "stream",
     "text": [
      "\n",
      "********************************************************************************\n",
      "  temperature_start:                       1.30072635e+01\n",
      "  temperature_end:                         1.61592839e-01\n",
      "  offset_increase_rate:                    9.49142857e-01\n",
      "  duration:                                0.001 sec\n",
      "********************************************************************************\n",
      "\n"
     ]
    }
   ],
   "source": [
    "from dadk.QUBOSolverCPU import QUBOSolverCPU\n",
    "solver = QUBOSolverCPU(number_runs=2,\n",
    "                       number_iterations=1000,\n",
    "                       temperature_sampling=True,  # default\n",
    "                       random_seed=42)\n",
    "solution_list = solver.minimize(qubo)"
   ]
  },
  {
   "cell_type": "code",
   "execution_count": 10,
   "metadata": {},
   "outputs": [
    {
     "name": "stdout",
     "output_type": "stream",
     "text": [
      "solutions:\n",
      "\n",
      "+-------------+----------+-----------------+\n",
      "|   frequency |   energy |   configuration |\n",
      "|-------------+----------+-----------------|\n",
      "|           2 |        7 |         1100110 |\n",
      "+-------------+----------+-----------------+\n",
      "stats_info:\n",
      "+------------------------------------+---------------------------------------------------------+\n",
      "| label                              | value                                                   |\n",
      "|------------------------------------+---------------------------------------------------------|\n",
      "| Input parameters                   |                                                         |\n",
      "| Total number of iterations per run | 1000                                                    |\n",
      "| number_runs                        | 2                                                       |\n",
      "| Number of replicas                 | 2                                                       |\n",
      "| Temperature mode                   | 0                                                       |\n",
      "| Start temperature                  | 13.007263498020437                                      |\n",
      "| Final temperature (mode 3)         | 0.1615928388568105                                      |\n",
      "| Temperature decay (mode 0)         | 0.004382942704211801                                    |\n",
      "| Temperature interval (mode 0)      | 1                                                       |\n",
      "| Dynamic energy offset              | 0.9491428571428571                                      |\n",
      "| Solution mode                      | SolutionMode.COMPLETE                                   |\n",
      "| Optimization method                | OptimizationMethod.annealing                            |\n",
      "| graphics.value                     | 2                                                       |\n",
      "| graphics.name                      | ALL                                                     |\n",
      "| Runtime                            |                                                         |\n",
      "| _Job identification                | davirm__20250207_155230_590704                          |\n",
      "| Elapsed time (from - to)           | 2025-02-07 15:52:30.590704 - 2025-02-07 15:52:30.595251 |\n",
      "| Elapsed time                       | 0:00:00.004547                                          |\n",
      "| Reduce degree time (from - to)     | 2025-02-07 15:52:30.590704 - 2025-02-07 15:52:30.590704 |\n",
      "| Reduce degree time                 | 0:00:00                                                 |\n",
      "| Scaling time (from - to)           | 2025-02-07 15:52:30.591702 - 2025-02-07 15:52:30.591702 |\n",
      "| Scaling time                       | 0:00:00                                                 |\n",
      "| Prepare QUBO time (from - to)      | 2025-02-07 15:52:30.591702 - 2025-02-07 15:52:30.592702 |\n",
      "| Prepare QUBO time                  | 0:00:00.001000                                          |\n",
      "| Execution time (from - to)         | 2025-02-07 15:52:30.592702 - 2025-02-07 15:52:30.595251 |\n",
      "| Execution time                     | 0:00:00.002549                                          |\n",
      "| Solve time (from - to)             | 2025-02-07 15:52:30.592702 - 2025-02-07 15:52:30.595251 |\n",
      "| Solve time                         | 0:00:00.002549                                          |\n",
      "| CPU time (from - to)               | 2025-02-07 15:52:30.592702 - 2025-02-07 15:52:30.592702 |\n",
      "| CPU time                           | 0:00:00                                                 |\n",
      "| Anneal time (from - to)            | 2025-02-07 15:52:30.592702 - 2025-02-07 15:52:30.595251 |\n",
      "| Anneal time                        | 0:00:00.002549                                          |\n",
      "| Number of steps                    | 2000                                                    |\n",
      "| Results                            |                                                         |\n",
      "| Minimum value of H                 | 7                                                       |\n",
      "+------------------------------------+---------------------------------------------------------+\n",
      "da_parameter:\n",
      "+---------------------------+-------------------------------------------------------------+\n",
      "| id                        | value                                                       |\n",
      "|---------------------------+-------------------------------------------------------------|\n",
      "| optimization_method       | OptimizationMethod.annealing                                |\n",
      "| number_runs               | 2                                                           |\n",
      "| number_iterations         | 1000                                                        |\n",
      "| temperature_sampling      | True                                                        |\n",
      "| sampling_parameter        | +--------------------+------------------------------------+ |\n",
      "|                           | | id                 | value                              | |\n",
      "|                           | |--------------------+------------------------------------| |\n",
      "|                           | | probability_model  | ProbabilityModel.EXPECTATION_VALUE | |\n",
      "|                           | | flip_probabilities | (0.99, 0.01)                       | |\n",
      "|                           | | annealing_steps    | (0.0, 0.5)                         | |\n",
      "|                           | | sampling_runs      | 100                                | |\n",
      "|                           | +--------------------+------------------------------------+ |\n",
      "| temperature_start         | 13.007263498020437                                          |\n",
      "| temperature_end           | 0.1615928388568105                                          |\n",
      "| temperature_mode          | 0                                                           |\n",
      "| temperature_interval      | 1                                                           |\n",
      "| offset_increase_rate      | 0.9491428571428571                                          |\n",
      "| pt_temperature_model      | Exponential                                                 |\n",
      "| pt_replica_exchange_model | Neighbours                                                  |\n",
      "| solution_mode             | SolutionMode.COMPLETE                                       |\n",
      "| graphics                  | GraphicsDetail.ALL                                          |\n",
      "+---------------------------+-------------------------------------------------------------+\n",
      "scaling_parameter:\n",
      "+-----------------------+-----------------------+\n",
      "| id                    | value                 |\n",
      "|-----------------------+-----------------------|\n",
      "| scaling_action        | ScalingAction.NOTHING |\n",
      "| scaling_factor        | 1.0                   |\n",
      "| scaling_bit_precision | 64                    |\n",
      "+-----------------------+-----------------------+\n"
     ]
    }
   ],
   "source": [
    "print(solution_list)"
   ]
  },
  {
   "cell_type": "code",
   "execution_count": null,
   "metadata": {},
   "outputs": [],
   "source": []
  }
 ],
 "metadata": {
  "kernelspec": {
   "display_name": "fujitsuDA",
   "language": "python",
   "name": "python3"
  },
  "language_info": {
   "codemirror_mode": {
    "name": "ipython",
    "version": 3
   },
   "file_extension": ".py",
   "mimetype": "text/x-python",
   "name": "python",
   "nbconvert_exporter": "python",
   "pygments_lexer": "ipython3",
   "version": "3.9.21"
  }
 },
 "nbformat": 4,
 "nbformat_minor": 2
}
